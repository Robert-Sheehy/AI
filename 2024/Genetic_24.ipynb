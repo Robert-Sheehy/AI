{
  "nbformat": 4,
  "nbformat_minor": 0,
  "metadata": {
    "colab": {
      "provenance": [],
      "authorship_tag": "ABX9TyOg/ozs2t8ShReFwrVf9OCe",
      "include_colab_link": true
    },
    "kernelspec": {
      "name": "python3",
      "display_name": "Python 3"
    },
    "language_info": {
      "name": "python"
    }
  },
  "cells": [
    {
      "cell_type": "markdown",
      "metadata": {
        "id": "view-in-github",
        "colab_type": "text"
      },
      "source": [
        "<a href=\"https://colab.research.google.com/github/Robert-Sheehy/AI/blob/main/Genetic_24.ipynb\" target=\"_parent\"><img src=\"https://colab.research.google.com/assets/colab-badge.svg\" alt=\"Open In Colab\"/></a>"
      ]
    },
    {
      "cell_type": "code",
      "source": [
        "import numpy as np\n"
      ],
      "metadata": {
        "id": "fXfxMJ-Qpjiy"
      },
      "execution_count": null,
      "outputs": []
    },
    {
      "cell_type": "code",
      "source": [
        "ind1 = np.random.uniform(-10,10,8)"
      ],
      "metadata": {
        "id": "wNN2XKytppCB"
      },
      "execution_count": null,
      "outputs": []
    },
    {
      "cell_type": "code",
      "source": [
        "ind2 = np.random.uniform(-10,10,8)"
      ],
      "metadata": {
        "id": "YRblD_KYrGZq"
      },
      "execution_count": null,
      "outputs": []
    },
    {
      "cell_type": "code",
      "source": [
        "ind1"
      ],
      "metadata": {
        "colab": {
          "base_uri": "https://localhost:8080/"
        },
        "id": "DxidZz8YrIjj",
        "outputId": "34125a8c-2d3f-4ca8-8a51-394ded1c7b28"
      },
      "execution_count": null,
      "outputs": [
        {
          "output_type": "execute_result",
          "data": {
            "text/plain": [
              "array([ 5.83425885,  7.60732818, -7.40517012,  4.40086035,  5.40561485,\n",
              "        6.96640011, -3.22194526,  1.47496185])"
            ]
          },
          "metadata": {},
          "execution_count": 17
        }
      ]
    },
    {
      "cell_type": "code",
      "source": [
        "ind2"
      ],
      "metadata": {
        "colab": {
          "base_uri": "https://localhost:8080/"
        },
        "id": "uN4OmCCErK8S",
        "outputId": "4ea44871-4491-46f8-8549-a170e065ab81"
      },
      "execution_count": null,
      "outputs": [
        {
          "output_type": "execute_result",
          "data": {
            "text/plain": [
              "array([-6.22096843, -5.74323921,  5.57045111, -9.40953841, -2.26375857,\n",
              "       -0.72897733, -6.66513425, -0.40990001])"
            ]
          },
          "metadata": {},
          "execution_count": 18
        }
      ]
    },
    {
      "cell_type": "code",
      "source": [
        "sphere(ind1)"
      ],
      "metadata": {
        "colab": {
          "base_uri": "https://localhost:8080/"
        },
        "id": "SOsKw-IwrUji",
        "outputId": "5cb95edb-0838-4cb6-d951-cf76bedcc74e"
      },
      "execution_count": null,
      "outputs": [
        {
          "output_type": "execute_result",
          "data": {
            "text/plain": [
              "256.4219806958255"
            ]
          },
          "metadata": {},
          "execution_count": 19
        }
      ]
    },
    {
      "cell_type": "code",
      "source": [
        "sphere(ind2)"
      ],
      "metadata": {
        "colab": {
          "base_uri": "https://localhost:8080/"
        },
        "id": "-4Avd2XHraSL",
        "outputId": "b6e5a77e-52aa-482b-b295-c23c76cce1df"
      },
      "execution_count": null,
      "outputs": [
        {
          "output_type": "execute_result",
          "data": {
            "text/plain": [
              "241.50262697873575"
            ]
          },
          "metadata": {},
          "execution_count": 20
        }
      ]
    },
    {
      "cell_type": "code",
      "source": [
        "def sphere(x):\n",
        "  total = 0\n",
        "  for i in x:\n",
        "    total+= i**2\n",
        "\n",
        "  return total"
      ],
      "metadata": {
        "id": "fIPNIhXHm6Gg"
      },
      "execution_count": null,
      "outputs": []
    },
    {
      "cell_type": "code",
      "source": [
        "class problem:\n",
        "  def __init__(self):\n",
        "    self.number_of_genes = 8\n",
        "    self.max_value = 10\n",
        "    self.min_value = -10\n",
        "    self.cost_function = sphere"
      ],
      "metadata": {
        "id": "-zY69SwjnBV_"
      },
      "execution_count": null,
      "outputs": []
    },
    {
      "cell_type": "code",
      "source": [
        "sphere(x)"
      ],
      "metadata": {
        "colab": {
          "base_uri": "https://localhost:8080/"
        },
        "id": "gEjPmyxZnGpX",
        "outputId": "d51ea077-d421-45b1-98ae-851b190a4d81"
      },
      "execution_count": null,
      "outputs": [
        {
          "output_type": "execute_result",
          "data": {
            "text/plain": [
              "14"
            ]
          },
          "metadata": {},
          "execution_count": 11
        }
      ]
    },
    {
      "cell_type": "code",
      "source": [
        "np.random.uniform()"
      ],
      "metadata": {
        "colab": {
          "base_uri": "https://localhost:8080/"
        },
        "id": "u9-d5JzlvhpO",
        "outputId": "79e138c8-35e1-4692-b6d0-a8f4946f3095"
      },
      "execution_count": null,
      "outputs": [
        {
          "output_type": "execute_result",
          "data": {
            "text/plain": [
              "0.0186986448881461"
            ]
          },
          "metadata": {},
          "execution_count": 47
        }
      ]
    },
    {
      "cell_type": "code",
      "execution_count": null,
      "metadata": {
        "id": "we9iVR2hlCry"
      },
      "outputs": [],
      "source": [
        "class individual:\n",
        "  def __init__(self,prob):\n",
        "    self.chromosome = np.random.uniform(prob.min_value, prob.max_value,prob.number_of_genes)\n",
        "    self.cost = prob.cost_function(self.chromosome)\n",
        "\n",
        "  def mutate(self, rate_of_gene_mutation,range_of_gene_mutation):\n",
        "    for index in range(len(self.chromosome)):\n",
        "      if  np.random.uniform() < rate_of_gene_mutation:\n",
        "        self.chromosome[index] += np.random.randn() * range_of_gene_mutation"
      ]
    },
    {
      "cell_type": "code",
      "source": [
        "p1=problem()\n"
      ],
      "metadata": {
        "id": "ZOUyVL1hsDLb"
      },
      "execution_count": null,
      "outputs": []
    },
    {
      "cell_type": "code",
      "source": [
        "p1.number_of_genes"
      ],
      "metadata": {
        "colab": {
          "base_uri": "https://localhost:8080/"
        },
        "id": "KWU3ee5tsGrL",
        "outputId": "1cef34a9-f2e0-4296-cad4-b4d1897d1fc8"
      },
      "execution_count": null,
      "outputs": [
        {
          "output_type": "execute_result",
          "data": {
            "text/plain": [
              "8"
            ]
          },
          "metadata": {},
          "execution_count": 50
        }
      ]
    },
    {
      "cell_type": "code",
      "source": [
        "indX = individual(p1)"
      ],
      "metadata": {
        "id": "qdshb3PVsMPT"
      },
      "execution_count": null,
      "outputs": []
    },
    {
      "cell_type": "code",
      "source": [
        "indX.chromosome"
      ],
      "metadata": {
        "colab": {
          "base_uri": "https://localhost:8080/"
        },
        "id": "C02--Z9WsTsi",
        "outputId": "0335a4ec-64ba-4d17-d0fb-8f38f396984e"
      },
      "execution_count": null,
      "outputs": [
        {
          "output_type": "execute_result",
          "data": {
            "text/plain": [
              "array([ 7.55818063, -9.81586348,  6.24105835, -1.44405887,  7.9003502 ,\n",
              "       -7.07911607,  9.04877641, -6.51348673])"
            ]
          },
          "metadata": {},
          "execution_count": 52
        }
      ]
    },
    {
      "cell_type": "code",
      "source": [
        "indX.cost"
      ],
      "metadata": {
        "colab": {
          "base_uri": "https://localhost:8080/"
        },
        "id": "AlRszneBsUg0",
        "outputId": "ba9d6d4d-7969-46b8-d26c-94293f5d7c25"
      },
      "execution_count": null,
      "outputs": [
        {
          "output_type": "execute_result",
          "data": {
            "text/plain": [
              "431.34866714789047"
            ]
          },
          "metadata": {},
          "execution_count": 53
        }
      ]
    },
    {
      "cell_type": "code",
      "source": [
        "indX.mutate(0.25,2)"
      ],
      "metadata": {
        "id": "FSvFjwLps1Zb"
      },
      "execution_count": null,
      "outputs": []
    },
    {
      "cell_type": "code",
      "source": [
        "indX.chromosome"
      ],
      "metadata": {
        "id": "9Jqw7Ffcw0jL",
        "outputId": "4efb3730-7654-4638-b94f-9666654b0ae4",
        "colab": {
          "base_uri": "https://localhost:8080/"
        }
      },
      "execution_count": null,
      "outputs": [
        {
          "output_type": "execute_result",
          "data": {
            "text/plain": [
              "array([ 7.55818063, -9.81586348,  6.24105835, -1.44405887,  7.9003502 ,\n",
              "       -8.28951581,  9.04877641, -6.51348673])"
            ]
          },
          "metadata": {},
          "execution_count": 55
        }
      ]
    },
    {
      "cell_type": "code",
      "source": [],
      "metadata": {
        "id": "Puo5707Tw2z9"
      },
      "execution_count": null,
      "outputs": []
    }
  ]
}
