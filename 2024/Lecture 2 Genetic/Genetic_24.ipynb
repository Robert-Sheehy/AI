{
  "nbformat": 4,
  "nbformat_minor": 0,
  "metadata": {
    "colab": {
      "provenance": []
    },
    "kernelspec": {
      "name": "python3",
      "display_name": "Python 3"
    },
    "language_info": {
      "name": "python"
    }
  },
  "cells": [
    {
      "cell_type": "code",
      "source": [
        "import numpy as np\n",
        "from copy import deepcopy\n"
      ],
      "metadata": {
        "id": "fXfxMJ-Qpjiy"
      },
      "execution_count": null,
      "outputs": []
    },
    {
      "cell_type": "markdown",
      "source": [
        "# The cost function\n",
        "\n",
        "Here we will be using a ***toy*** cost function which has a minimum of 0, and the only solution which has this cost consists of all 0 entries"
      ],
      "metadata": {
        "id": "L_-HfUsoxN5I"
      }
    },
    {
      "cell_type": "code",
      "source": [
        "def sphere(x):\n",
        "  total = 0\n",
        "  for i in x:\n",
        "    total+= i**2\n",
        "\n",
        "  return total"
      ],
      "metadata": {
        "id": "fIPNIhXHm6Gg"
      },
      "execution_count": null,
      "outputs": []
    },
    {
      "cell_type": "markdown",
      "source": [
        "# The Problem\n",
        "We abstract the problem into a class\n",
        "\n",
        "Key to this is the cost function, the solution is the set of values (of the chromosome of an individual) which minimise this function.\n",
        "\n",
        "These values are broadly defined here in the problem."
      ],
      "metadata": {
        "id": "DLlKF-uLyQ8W"
      }
    },
    {
      "cell_type": "code",
      "source": [
        "class problem:\n",
        "  def __init__(self):\n",
        "    self.number_of_genes = 8\n",
        "    self.max_value = 10\n",
        "    self.min_value = -10\n",
        "    self.cost_function = sphere"
      ],
      "metadata": {
        "id": "-zY69SwjnBV_"
      },
      "execution_count": null,
      "outputs": []
    },
    {
      "cell_type": "markdown",
      "source": [
        "# The individual\n",
        "\n",
        "This abstracted into a class, which will be determined by the problem.\n",
        "The main components of this are\n",
        "\n",
        "\n",
        "*   Generate a random individual\n",
        "*   Mutate\n",
        "*   Crossover\n",
        "\n",
        "These will typically have to be adjusted for differing problems\n",
        "\n"
      ],
      "metadata": {
        "id": "ZdkNlBnEyhkH"
      }
    },
    {
      "cell_type": "code",
      "execution_count": null,
      "metadata": {
        "id": "we9iVR2hlCry"
      },
      "outputs": [],
      "source": [
        "class individual:\n",
        "  def __init__(self,prob):\n",
        "    self.chromosome = np.random.uniform(prob.min_value, prob.max_value,prob.number_of_genes)\n",
        "    self.cost = prob.cost_function(self.chromosome)\n",
        "\n",
        "  def mutate(self, rate_of_gene_mutation,range_of_gene_mutation):\n",
        "    for index in range(len(self.chromosome)):\n",
        "      if  np.random.uniform() < rate_of_gene_mutation:\n",
        "        self.chromosome[index] += np.random.randn() * range_of_gene_mutation\n",
        "\n",
        "  def crossover(self,parent2,explore_crossover):\n",
        "    alpha = np.random.uniform(-explore_crossover, 1+explore_crossover)\n",
        "    child1 = deepcopy(self)\n",
        "    child2 = deepcopy(parent2)\n",
        "    child1.chromosome = alpha * self.chromosome + (1-alpha)*parent2.chromosome\n",
        "    child2.chromosome = alpha * parent2.chromosome + (1-alpha)*self.chromosome\n",
        "    return child1,child2"
      ]
    },
    {
      "cell_type": "code",
      "source": [
        "p1=problem()\n",
        "par1 = parameters()\n"
      ],
      "metadata": {
        "id": "ZOUyVL1hsDLb"
      },
      "execution_count": null,
      "outputs": []
    },
    {
      "cell_type": "code",
      "source": [
        "class parameters:\n",
        "  def __init__(self):\n",
        "    self.population  = 1000\n",
        "    self.number_of_generations = 100\n",
        "    self.child_rate_per_generation = 1\n",
        "    self.crossover_explore_rate = 0.2\n",
        "    self.gene_mutate_range = 0.5\n",
        "    self.gene_mutate_rate = 0.2"
      ],
      "metadata": {
        "id": "LAw7Pl3HUjbK"
      },
      "execution_count": null,
      "outputs": []
    },
    {
      "cell_type": "code",
      "source": [],
      "metadata": {
        "id": "ZF9ekDO2Xjud"
      },
      "execution_count": null,
      "outputs": []
    },
    {
      "cell_type": "code",
      "source": [
        "def choose_indices_from(number_in_list):\n",
        "  index_1 = np.random.randint(number_in_list)\n",
        "  index_2 = np.random.randint(number_in_list)\n",
        "  if index_1 == index_2:\n",
        "    return choose_indices_from(number_in_list)\n",
        "  return index_1,index_2"
      ],
      "metadata": {
        "id": "ViHO95_Kb8cv"
      },
      "execution_count": null,
      "outputs": []
    },
    {
      "cell_type": "markdown",
      "source": [
        "\n",
        "\n",
        "---\n",
        "**Executing the Genetic Algorithm**\n",
        "\n",
        "The following method executes the genetic algorithm, for the problem passed in as prob, and with the parameters passed in as params. This will...\n",
        "\n",
        "\n",
        "\n",
        "*   Read in the problem and the parameters for the algorithm\n",
        "*   Initialise the population\n",
        "\n",
        "\n",
        "> *   Create the required amount of appropriately randomly generated individuals\n",
        "*   Keep track of the \"Best individual/ best cost\"\n",
        "\n",
        "The algorithm runs over many generations (max number usually specified in parameters)\n",
        "\n",
        "Repeat following until max number of generations reached or solution found\n",
        "  \n",
        "\n",
        "---\n",
        "\n",
        "\n",
        "  >Generate this generation of children\n",
        "\n",
        "\n",
        "*   Select Parents\n",
        "*   Crossover Parents -> Children\n",
        "*   Mutate\n",
        "\n",
        "\n",
        "Add Children to population\n",
        "\n",
        "Sort and Cull population\n",
        "*   Update best solution if better found\n",
        "---\n",
        "\n",
        "Usually returns the Best Solution/ Cost as the solution to the problem\n",
        "\n",
        "\n"
      ],
      "metadata": {
        "id": "-W84g60YwPsj"
      }
    },
    {
      "cell_type": "code",
      "source": [
        "def run_genetic(prob, params):\n",
        "  # Read in important info from problem\n",
        "  cost_function = prob.cost_function\n",
        "\n",
        "\n",
        "  number_in_population = params.population\n",
        "  max_number_of_generations = params.number_of_generations\n",
        "  number_of_children_per_generation = params.child_rate_per_generation * number_in_population\n",
        "  explore_crossover = params.crossover_explore_rate\n",
        "  gene_mutate_rate = params.gene_mutate_rate\n",
        "  gene_mutate_range = params.gene_mutate_range\n",
        "\n",
        "  # Generate initial population\n",
        "  population = []\n",
        "\n",
        "  #placeholder for best solution\n",
        "\n",
        "  best_solution = individual(prob)\n",
        "  best_solution.cost = np.infty\n",
        "  for i in range(number_in_population):\n",
        "    new_individual = individual(prob)\n",
        "    population.append(new_individual)\n",
        "\n",
        "    if new_individual.cost < best_solution.cost:\n",
        "      best_solution = deepcopy(new_individual)\n",
        "\n",
        "  #  Generational Iteration\n",
        "\n",
        "  for _iteration in range(max_number_of_generations):\n",
        "\n",
        "    # create children\n",
        "\n",
        "    children = []\n",
        "\n",
        "    while len(children) < number_of_children_per_generation:\n",
        "      parent1_index , parent2_index = choose_indices_from(len(population))\n",
        "      parent1 = population[parent1_index]\n",
        "      parent2 = population[parent2_index]\n",
        "\n",
        "      child1, child2 = parent1.crossover(parent2,explore_crossover)\n",
        "      child1.mutate(gene_mutate_rate, gene_mutate_range)\n",
        "      child1.cost = cost_function(child1.chromosome)\n",
        "      child2.mutate(gene_mutate_rate, gene_mutate_range)\n",
        "      child2.cost = cost_function(child2.chromosome)\n",
        "\n",
        "      # add children in list\n",
        "      children.append(child1)\n",
        "      children.append(child2)\n",
        "      #end of the while loop\n",
        "\n",
        "    # all children created\n",
        "\n",
        "    # add the children to the population\n",
        "\n",
        "    # sort the population\n",
        "\n",
        "    # adjust the best solution\n",
        "\n",
        "\n",
        "\n",
        "\n",
        "\n",
        "\n",
        "  return best_solution"
      ],
      "metadata": {
        "id": "HEZAi0y_SnXx"
      },
      "execution_count": null,
      "outputs": []
    },
    {
      "cell_type": "code",
      "source": [
        "bs = run_genetic(p1,par1)"
      ],
      "metadata": {
        "id": "LXhyp0gaWhWs"
      },
      "execution_count": null,
      "outputs": []
    },
    {
      "cell_type": "code",
      "source": [],
      "metadata": {
        "id": "pwIksYNjYO0s"
      },
      "execution_count": null,
      "outputs": []
    }
  ]
}