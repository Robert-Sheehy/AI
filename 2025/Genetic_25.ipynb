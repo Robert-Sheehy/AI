{
  "nbformat": 4,
  "nbformat_minor": 0,
  "metadata": {
    "colab": {
      "provenance": []
    },
    "kernelspec": {
      "name": "python3",
      "display_name": "Python 3"
    },
    "language_info": {
      "name": "python"
    }
  },
  "cells": [
    {
      "cell_type": "code",
      "source": [
        "import numpy as np\n",
        "from copy import deepcopy\n"
      ],
      "metadata": {
        "id": "mW_xdUYvDXud"
      },
      "execution_count": null,
      "outputs": []
    },
    {
      "cell_type": "code",
      "source": [
        "def sphere(x):\n",
        "  total = 0\n",
        "  for i in x:\n",
        "    total += i*i\n",
        "  return total"
      ],
      "metadata": {
        "id": "nLVn0LT7DmmV"
      },
      "execution_count": null,
      "outputs": []
    },
    {
      "cell_type": "code",
      "source": [
        "def seq_cost(x):\n",
        "  total = 0\n",
        "  for i in range(5):\n",
        "    total += (x[i] - (i+1))**2\n",
        "  return total"
      ],
      "metadata": {
        "id": "fFFxw9HtBuwY"
      },
      "execution_count": null,
      "outputs": []
    },
    {
      "cell_type": "code",
      "source": [
        "seq_cost([1,2,3,4,5])"
      ],
      "metadata": {
        "colab": {
          "base_uri": "https://localhost:8080/"
        },
        "id": "F2DxNe9RCV2f",
        "outputId": "0fdbb3f6-e6ed-4d98-afe8-43cd57adbec6"
      },
      "execution_count": null,
      "outputs": [
        {
          "output_type": "execute_result",
          "data": {
            "text/plain": [
              "0"
            ]
          },
          "metadata": {},
          "execution_count": 64
        }
      ]
    },
    {
      "cell_type": "code",
      "source": [
        "def costLP(v):\n",
        "  if v[0] + v[1] + v[2] <10:  #x+y+z <10\n",
        "    return 10000000\n",
        "  if 2*v[1] +4*v[2] <25:  # 2y+4z<25\n",
        "    return 10000000\n",
        "  return 3*v[0] +4*v[1]+5*v[2]  #3x+4y+5z"
      ],
      "metadata": {
        "id": "DLdeIA74ERx5"
      },
      "execution_count": null,
      "outputs": []
    },
    {
      "cell_type": "code",
      "source": [
        "class problem:\n",
        "  def __init__(self):\n",
        "    self.number_of_genes = 3\n",
        "    self.min_value = 0\n",
        "    self.max_value = 50\n",
        "    self.cost_function = costLP\n",
        "    self.acceptable_cost = 0.00001\n",
        "    pass"
      ],
      "metadata": {
        "id": "XtiufR8AFbuo"
      },
      "execution_count": null,
      "outputs": []
    },
    {
      "cell_type": "code",
      "source": [
        "class individual:\n",
        "  def __init__(self, prob):\n",
        "    self.chromosome = np.random.uniform(prob.min_value, prob.max_value, prob.number_of_genes)\n",
        "    self.cost = prob.cost_function(self.chromosome)\n",
        "\n",
        "  def mutate(self, rate_of_gene_mutation, range_of_gene_mutation):\n",
        "    for index in range(len(self.chromosome)):\n",
        "      if np.random.uniform() < rate_of_gene_mutation:\n",
        "        self.chromosome[index] += np.random.randn()*range_of_gene_mutation\n",
        "\n",
        "  def crossover(self,parent2, explore_crossover):\n",
        "    alpha = np.random.uniform(-explore_crossover, 1+explore_crossover)\n",
        "    child1 = deepcopy(self)\n",
        "    child2 = deepcopy(parent2)\n",
        "    child1.chromosome = alpha*self.chromosome + (1-alpha)*parent2.chromosome\n",
        "    child2.chromosome = alpha*parent2.chromosome + (1-alpha)*self.chromosome\n",
        "    return child1,child2\n"
      ],
      "metadata": {
        "id": "FXteEm2yEe9F"
      },
      "execution_count": null,
      "outputs": []
    },
    {
      "cell_type": "code",
      "source": [
        "class parameters:\n",
        "  def __init__(self):\n",
        "    self.population= 1000;\n",
        "    self.birth_rate_per_generation = 1\n",
        "    self.explore_crossover_range = 0.2\n",
        "    self.gene_mutation_rate = 0.2\n",
        "    self.gene_mutation_range = 0.5\n",
        "    self.max_number_of_generations = 1000\n"
      ],
      "metadata": {
        "id": "Dph9iKveTec8"
      },
      "execution_count": null,
      "outputs": []
    },
    {
      "cell_type": "code",
      "source": [
        "def choose_parents(population):\n",
        "  index1 = np.random.randint(population)\n",
        "  index2 = np.random.randint(population)\n",
        "  if index1 == index2:\n",
        "    return choose_parents(population)\n",
        "  return index1,index2"
      ],
      "metadata": {
        "id": "9dSfcETvyhcQ"
      },
      "execution_count": null,
      "outputs": []
    },
    {
      "cell_type": "code",
      "source": [
        "def run_genetic(prob, params):\n",
        "  # read variables\n",
        "  number_in_population = params.population\n",
        "  rate_of_gene_mutation = params.gene_mutation_rate\n",
        "  range_of_gene_mutation = params.gene_mutation_range\n",
        "  explore_crossover = params.explore_crossover_range\n",
        "  max_number_of_generations = params.max_number_of_generations\n",
        "  cost_function = prob.cost_function\n",
        "  acceptable_cost = prob.acceptable_cost\n",
        "  number_of_children_per_generation =number_in_population * params.birth_rate_per_generation\n",
        "\n",
        "  # Create our population\n",
        "  population = []\n",
        "  best_solution = individual(prob)\n",
        "  best_solution.cost = np.infty\n",
        "\n",
        "  for i in range(number_in_population):\n",
        "    new_individual = individual(prob)\n",
        "    if new_individual.cost < best_solution.cost:\n",
        "      best_solution = deepcopy(new_individual)\n",
        "    population.append(new_individual)\n",
        "\n",
        "  print(len(population))\n",
        "\n",
        "  # start loop\n",
        "  for i in range(max_number_of_generations):\n",
        "    children = []\n",
        "      #choose parents\n",
        "    while len(children) < number_of_children_per_generation:\n",
        "      parent1_index, parent2_index = choose_parents(number_in_population)\n",
        "\n",
        "      parent1 = population[parent1_index]\n",
        "      parent2 = population[parent2_index]\n",
        "\n",
        "        # create children\n",
        "      child1, child2 = parent1.crossover(parent2,explore_crossover)\n",
        "      child1.mutate(rate_of_gene_mutation,range_of_gene_mutation)\n",
        "      child2.mutate(rate_of_gene_mutation,range_of_gene_mutation)\n",
        "      child1.cost = cost_function(child1.chromosome)\n",
        "      child2.cost = cost_function(child2.chromosome)\n",
        "      children.append(child1)\n",
        "      children.append(child2)\n",
        "\n",
        "    population += children\n",
        "\n",
        "      # sort population\n",
        "    population = sorted(population, key=lambda x: x.cost)\n",
        "\n",
        "      # cull population\n",
        "    population = population[:number_in_population]\n",
        "      #check solution\n",
        "    if population[0].cost < best_solution.cost:\n",
        "      best_solution = deepcopy(population[0])\n",
        "      print(best_solution.cost)\n",
        "    if best_solution.cost < acceptable_cost:\n",
        "      break\n",
        "  return population, best_solution\n",
        "\n",
        "\n"
      ],
      "metadata": {
        "id": "bEz33zm1HZZx"
      },
      "execution_count": null,
      "outputs": []
    },
    {
      "cell_type": "code",
      "source": [
        "p.number_of_genes"
      ],
      "metadata": {
        "colab": {
          "base_uri": "https://localhost:8080/"
        },
        "id": "mHdxtRRUHbpR",
        "outputId": "e5f10f79-8ef4-4821-baf5-cd8aa973c3a7"
      },
      "execution_count": null,
      "outputs": [
        {
          "output_type": "execute_result",
          "data": {
            "text/plain": [
              "8"
            ]
          },
          "metadata": {},
          "execution_count": 46
        }
      ]
    },
    {
      "cell_type": "code",
      "source": [
        "prob = problem()\n",
        "params = parameters()"
      ],
      "metadata": {
        "id": "-ra4RAjdHa8p"
      },
      "execution_count": null,
      "outputs": []
    },
    {
      "cell_type": "code",
      "source": [
        "pop, best = run_genetic(prob, params)"
      ],
      "metadata": {
        "colab": {
          "base_uri": "https://localhost:8080/"
        },
        "id": "_cUbiNRTHh0Q",
        "outputId": "9ddbf6db-6de7-43c7-a71d-f8034eec3503"
      },
      "execution_count": null,
      "outputs": [
        {
          "output_type": "stream",
          "name": "stdout",
          "text": [
            "1000\n",
            "55.55062863537466\n",
            "48.52317774454074\n",
            "47.91017407019055\n",
            "45.487684611902885\n",
            "43.7049163333053\n",
            "43.369019384553305\n",
            "43.29781807373436\n",
            "42.93820176351317\n",
            "42.52819704686413\n",
            "42.52006767538303\n",
            "42.51980930580737\n",
            "42.50811777121475\n",
            "42.50648226986013\n",
            "42.50290221389477\n",
            "42.50157199679891\n",
            "42.5002928605965\n",
            "42.500023760027354\n",
            "42.50000856697994\n",
            "42.50000563243524\n",
            "42.500000497700604\n",
            "42.50000020490067\n",
            "42.500000112212774\n",
            "42.500000081045314\n",
            "42.50000005663811\n",
            "42.50000003741381\n",
            "42.50000002913736\n",
            "42.50000002830825\n",
            "42.50000002829335\n",
            "42.500000028248465\n",
            "42.50000002793656\n",
            "42.500000027784075\n",
            "42.50000002775513\n",
            "42.50000002769534\n",
            "42.50000002762406\n",
            "42.50000002753786\n",
            "42.500000027489364\n",
            "42.50000002747486\n",
            "42.50000002746446\n",
            "42.50000002746385\n",
            "42.500000027462015\n",
            "42.50000002745576\n",
            "42.50000002745121\n",
            "42.5000000274462\n",
            "42.50000002744436\n",
            "42.50000002744405\n",
            "42.50000002744373\n",
            "42.50000002744371\n",
            "42.50000002744365\n",
            "42.500000027443484\n",
            "42.50000002744332\n",
            "42.50000002744313\n",
            "42.500000027443114\n",
            "42.50000002744297\n",
            "42.50000002744296\n",
            "42.50000002744294\n",
            "42.500000027442915\n",
            "42.5000000274429\n",
            "42.50000002744289\n",
            "42.50000002744287\n",
            "42.500000027442866\n",
            "42.50000002744286\n",
            "42.500000027442844\n",
            "42.50000002744284\n",
            "42.50000002744283\n",
            "42.50000002744282\n",
            "42.500000027442816\n",
            "42.50000002744281\n",
            "42.5000000274428\n",
            "42.500000027442795\n",
            "42.50000002744279\n",
            "42.50000002744278\n",
            "42.50000002744277\n",
            "42.500000027442766\n",
            "42.50000002744276\n",
            "42.50000002744275\n",
            "42.500000027442745\n",
            "42.50000002744274\n",
            "42.50000002744273\n",
            "42.500000027442724\n",
            "42.50000002744272\n",
            "42.50000002744271\n",
            "42.5000000274427\n",
            "42.500000027442695\n",
            "42.50000002744269\n",
            "42.50000002744268\n",
            "42.500000027442674\n",
            "42.50000002744267\n",
            "42.50000002744265\n",
            "42.500000027442645\n",
            "42.50000002744264\n",
            "42.50000002744263\n",
            "42.500000027442624\n",
            "42.50000002744262\n",
            "42.50000002744261\n",
            "42.5000000274426\n",
            "42.500000027442596\n",
            "42.50000002744259\n",
            "42.50000002744258\n",
            "42.500000027442574\n",
            "42.50000002744257\n",
            "42.50000002744255\n",
            "42.500000027442546\n",
            "42.50000002744254\n",
            "42.50000002744253\n",
            "42.500000027442525\n",
            "42.50000002744252\n",
            "42.50000002744251\n",
            "42.5000000274425\n",
            "42.500000027442496\n",
            "42.50000002744249\n",
            "42.50000002744248\n",
            "42.500000027442475\n",
            "42.50000002744247\n",
            "42.50000002744246\n",
            "42.500000027442454\n",
            "42.50000002744245\n",
            "42.50000002744244\n",
            "42.50000002744243\n",
            "42.500000027442425\n",
            "42.50000002744242\n",
            "42.50000002744241\n",
            "42.500000027442404\n",
            "42.5000000274424\n",
            "42.50000002744239\n",
            "42.50000002744238\n",
            "42.500000027442375\n",
            "42.50000002744237\n",
            "42.50000002744236\n",
            "42.500000027442354\n",
            "42.50000002744235\n",
            "42.50000002744234\n",
            "42.50000002744233\n",
            "42.500000027442326\n",
            "42.50000002744232\n",
            "42.50000002744231\n",
            "42.500000027442304\n",
            "42.5000000274423\n",
            "42.50000002744229\n",
            "42.50000002744228\n",
            "42.500000027442276\n",
            "42.50000002744227\n",
            "42.50000002744226\n",
            "42.500000027442255\n",
            "42.50000002744225\n",
            "42.50000002744224\n",
            "42.50000002744223\n",
            "42.500000027442226\n",
            "42.50000002744222\n",
            "42.50000002744221\n",
            "42.5000000274422\n",
            "42.50000002744219\n",
            "42.500000027442184\n",
            "42.50000002744217\n",
            "42.50000002744216\n",
            "42.500000027442155\n",
            "42.50000002744215\n",
            "42.50000002744214\n",
            "42.500000027442134\n",
            "42.50000002744213\n",
            "42.50000002744212\n",
            "42.50000002744211\n",
            "42.500000027442105\n",
            "42.5000000274421\n",
            "42.50000002744209\n",
            "42.500000027442084\n",
            "42.50000002744208\n",
            "42.50000002744207\n",
            "42.50000002744206\n",
            "42.500000027442056\n",
            "42.50000002744205\n",
            "42.50000002744204\n",
            "42.50000002744203\n",
            "42.50000002744202\n",
            "42.50000002744201\n",
            "42.500000027442006\n",
            "42.500000027442\n",
            "42.50000002744199\n",
            "42.500000027441985\n",
            "42.50000002744198\n",
            "42.50000002744197\n",
            "42.50000002744196\n",
            "42.500000027441956\n",
            "42.50000002744195\n",
            "42.50000002744194\n",
            "42.50000002744193\n",
            "42.50000002744192\n",
            "42.500000027441914\n",
            "42.50000002744191\n",
            "42.5000000274419\n",
            "42.50000002744189\n",
            "42.500000027441885\n"
          ]
        }
      ]
    },
    {
      "cell_type": "code",
      "source": [
        "best.chromosome"
      ],
      "metadata": {
        "colab": {
          "base_uri": "https://localhost:8080/"
        },
        "id": "33Ehezp2CmWw",
        "outputId": "92b436e6-bb70-48f4-9f60-7afcc31dc696"
      },
      "execution_count": null,
      "outputs": [
        {
          "output_type": "execute_result",
          "data": {
            "text/plain": [
              "array([-2.0096025 , 11.51920502,  0.49039749])"
            ]
          },
          "metadata": {},
          "execution_count": 78
        }
      ]
    },
    {
      "cell_type": "code",
      "source": [
        "best.cost/prob.acceptable_cost"
      ],
      "metadata": {
        "colab": {
          "base_uri": "https://localhost:8080/"
        },
        "id": "G7wbrMEyxzUn",
        "outputId": "32128a1a-6b33-468a-ee9d-ba8f63c7a1ec"
      },
      "execution_count": null,
      "outputs": [
        {
          "output_type": "execute_result",
          "data": {
            "text/plain": [
              "19.2918951081048"
            ]
          },
          "metadata": {},
          "execution_count": 62
        }
      ]
    },
    {
      "cell_type": "code",
      "source": [
        "i1.mutate(0.5,2)"
      ],
      "metadata": {
        "id": "gYnJuIduHjCJ"
      },
      "execution_count": null,
      "outputs": []
    },
    {
      "cell_type": "code",
      "source": [
        "i2.chromosome"
      ],
      "metadata": {
        "colab": {
          "base_uri": "https://localhost:8080/"
        },
        "id": "M0bo5WiFHpbh",
        "outputId": "e94edbe1-7cd0-4e52-f2cf-f06f67efbffb"
      },
      "execution_count": null,
      "outputs": [
        {
          "output_type": "execute_result",
          "data": {
            "text/plain": [
              "array([ 0.81958589, -5.5818371 , -1.38125102,  3.31001204, -3.32800164,\n",
              "       -6.72162076, -6.67719998, -5.11699217])"
            ]
          },
          "metadata": {},
          "execution_count": 49
        }
      ]
    },
    {
      "cell_type": "code",
      "source": [
        "c1,c2 = i1.crossover(i2,0.5)"
      ],
      "metadata": {
        "id": "qSHyW3fYHrcB"
      },
      "execution_count": null,
      "outputs": []
    },
    {
      "cell_type": "code",
      "source": [
        "c1.chromosome"
      ],
      "metadata": {
        "colab": {
          "base_uri": "https://localhost:8080/"
        },
        "id": "ETVTgmKaSUzz",
        "outputId": "2523cdef-bfd6-4fb5-9322-595cc86d6eba"
      },
      "execution_count": null,
      "outputs": [
        {
          "output_type": "execute_result",
          "data": {
            "text/plain": [
              "array([ 0.30617427, -5.65154596, -1.59334734,  2.50636585, -3.03011947,\n",
              "       -6.07906206, -6.4122788 , -4.56575781])"
            ]
          },
          "metadata": {},
          "execution_count": 51
        }
      ]
    },
    {
      "cell_type": "code",
      "source": [
        "c2.chromosome"
      ],
      "metadata": {
        "colab": {
          "base_uri": "https://localhost:8080/"
        },
        "id": "rWdPKtMRSXAr",
        "outputId": "ed42b234-3641-4c25-9bf0-58b2ab8c6958"
      },
      "execution_count": null,
      "outputs": [
        {
          "output_type": "execute_result",
          "data": {
            "text/plain": [
              "array([-6.17715884, -6.53182553, -4.27168764, -7.6420331 ,  0.73151974,\n",
              "        2.03513313, -3.06686898,  2.3951988 ])"
            ]
          },
          "metadata": {},
          "execution_count": 52
        }
      ]
    },
    {
      "cell_type": "code",
      "source": [
        "c1.chromosome + c2.chromosome"
      ],
      "metadata": {
        "colab": {
          "base_uri": "https://localhost:8080/"
        },
        "id": "nnQR1YrCJGcT",
        "outputId": "8bcec4e9-cdc6-42b5-a320-1f5480d42157"
      },
      "execution_count": null,
      "outputs": [
        {
          "output_type": "execute_result",
          "data": {
            "text/plain": [
              "array([ -5.87098457, -12.18337149,  -5.86503498,  -5.13566725,\n",
              "        -2.29859974,  -4.04392893,  -9.47914777,  -2.17055901])"
            ]
          },
          "metadata": {},
          "execution_count": 53
        }
      ]
    },
    {
      "cell_type": "code",
      "source": [
        "i1.chromosome+i2.chromosome"
      ],
      "metadata": {
        "colab": {
          "base_uri": "https://localhost:8080/"
        },
        "id": "jiPQWiKHSwbE",
        "outputId": "20e17319-14ce-4c97-be2a-855204840729"
      },
      "execution_count": null,
      "outputs": [
        {
          "output_type": "execute_result",
          "data": {
            "text/plain": [
              "array([ -5.87098457, -12.18337149,  -5.86503498,  -5.13566725,\n",
              "        -2.29859974,  -4.04392893,  -9.47914777,  -2.17055901])"
            ]
          },
          "metadata": {},
          "execution_count": 54
        }
      ]
    },
    {
      "cell_type": "code",
      "source": [
        "population = []\n",
        "for i in range(1000):\n",
        "  population.append(individual(prob\n",
        "                               ))"
      ],
      "metadata": {
        "id": "E4O0Q1xcJIDy"
      },
      "execution_count": null,
      "outputs": []
    },
    {
      "cell_type": "code",
      "source": [
        "choose_parents(population)"
      ],
      "metadata": {
        "colab": {
          "base_uri": "https://localhost:8080/"
        },
        "id": "KK0Budg7Jf71",
        "outputId": "8bb4c923-94b5-4372-daf9-9325b04e6160"
      },
      "execution_count": null,
      "outputs": [
        {
          "output_type": "execute_result",
          "data": {
            "text/plain": [
              "(120, 767)"
            ]
          },
          "metadata": {},
          "execution_count": 16
        }
      ]
    },
    {
      "cell_type": "code",
      "source": [],
      "metadata": {
        "id": "16hAWC8YJhjk"
      },
      "execution_count": null,
      "outputs": []
    }
  ]
}